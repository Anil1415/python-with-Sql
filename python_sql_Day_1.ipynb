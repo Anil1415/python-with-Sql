{
 "cells": [
  {
   "cell_type": "code",
   "execution_count": 3,
   "id": "c03f769b",
   "metadata": {},
   "outputs": [
    {
     "name": "stdout",
     "output_type": "stream",
     "text": [
      "<mysql.connector.connection.MySQLConnection object at 0x7fedf101df40>\n"
     ]
    }
   ],
   "source": [
    "import mysql.connector\n",
    "# import mysql.connector\n",
    "#create user 'user'@'%' identified by 'password'\n",
    "mydb = mysql.connector.connect(\n",
    "  host=\"localhost\",\n",
    "  user=\"root\",\n",
    "  password=\"Newedge@123\"\n",
    ")\n",
    "print(mydb)\n",
    "# mycursor = mydb.cursor()\n",
    "# mycursor.execute('create database ineuron')\n",
    "\n",
    "# this is my mysql workbench user and password\n",
    "# package is installing but showing no module found 'mysql'"
   ]
  },
  {
   "cell_type": "code",
   "execution_count": 4,
   "id": "41f8e663",
   "metadata": {},
   "outputs": [],
   "source": [
    "cur = mydb.cursor()"
   ]
  },
  {
   "cell_type": "code",
   "execution_count": 5,
   "id": "a99e565b",
   "metadata": {},
   "outputs": [],
   "source": [
    "cur.execute('show databases')"
   ]
  },
  {
   "cell_type": "code",
   "execution_count": 6,
   "id": "f4d79531",
   "metadata": {},
   "outputs": [
    {
     "name": "stdout",
     "output_type": "stream",
     "text": [
      "('customery',)\n",
      "('ineuron',)\n",
      "('information_schema',)\n",
      "('Intro_Sql',)\n",
      "('mysql',)\n",
      "('new_schema',)\n",
      "('performance_schema',)\n",
      "('sql_hr',)\n",
      "('sql_inventory',)\n",
      "('sql_invoicing',)\n",
      "('sql_store',)\n",
      "('sys',)\n",
      "('test',)\n"
     ]
    }
   ],
   "source": [
    "for i in cur:\n",
    "    print(i)"
   ]
  },
  {
   "cell_type": "code",
   "execution_count": 7,
   "id": "9b18ddb1",
   "metadata": {},
   "outputs": [],
   "source": [
    "cur.execute('create database fsds_db')"
   ]
  },
  {
   "cell_type": "code",
   "execution_count": 10,
   "id": "4e07e052",
   "metadata": {},
   "outputs": [
    {
     "ename": "ProgrammingError",
     "evalue": "1064 (42000): You have an error in your SQL syntax; check the manual that corresponds to your MySQL server version for the right syntax to use near 'database fsds_db' at line 1",
     "output_type": "error",
     "traceback": [
      "\u001b[0;31m---------------------------------------------------------------------------\u001b[0m",
      "\u001b[0;31mProgrammingError\u001b[0m                          Traceback (most recent call last)",
      "Input \u001b[0;32mIn [10]\u001b[0m, in \u001b[0;36m<cell line: 1>\u001b[0;34m()\u001b[0m\n\u001b[0;32m----> 1\u001b[0m \u001b[43mcur\u001b[49m\u001b[38;5;241;43m.\u001b[39;49m\u001b[43mexecute\u001b[49m\u001b[43m(\u001b[49m\u001b[38;5;124;43m\"\u001b[39;49m\u001b[38;5;124;43muse database fsds_db\u001b[39;49m\u001b[38;5;124;43m\"\u001b[39;49m\u001b[43m)\u001b[49m\n",
      "File \u001b[0;32m~/opt/anaconda3/lib/python3.9/site-packages/mysql/connector/cursor.py:617\u001b[0m, in \u001b[0;36mMySQLCursor.execute\u001b[0;34m(self, operation, params, multi)\u001b[0m\n\u001b[1;32m    614\u001b[0m     \u001b[38;5;28;01mreturn\u001b[39;00m \u001b[38;5;28mself\u001b[39m\u001b[38;5;241m.\u001b[39m_execute_iter(\u001b[38;5;28mself\u001b[39m\u001b[38;5;241m.\u001b[39m_connection\u001b[38;5;241m.\u001b[39mcmd_query_iter(stmt))\n\u001b[1;32m    616\u001b[0m \u001b[38;5;28;01mtry\u001b[39;00m:\n\u001b[0;32m--> 617\u001b[0m     \u001b[38;5;28mself\u001b[39m\u001b[38;5;241m.\u001b[39m_handle_result(\u001b[38;5;28;43mself\u001b[39;49m\u001b[38;5;241;43m.\u001b[39;49m\u001b[43m_connection\u001b[49m\u001b[38;5;241;43m.\u001b[39;49m\u001b[43mcmd_query\u001b[49m\u001b[43m(\u001b[49m\u001b[43mstmt\u001b[49m\u001b[43m)\u001b[49m)\n\u001b[1;32m    618\u001b[0m \u001b[38;5;28;01mexcept\u001b[39;00m InterfaceError \u001b[38;5;28;01mas\u001b[39;00m err:\n\u001b[1;32m    619\u001b[0m     \u001b[38;5;28;01mif\u001b[39;00m \u001b[38;5;28mself\u001b[39m\u001b[38;5;241m.\u001b[39m_connection\u001b[38;5;241m.\u001b[39mhave_next_result:\n",
      "File \u001b[0;32m~/opt/anaconda3/lib/python3.9/site-packages/mysql/connector/connection.py:1046\u001b[0m, in \u001b[0;36mMySQLConnection.cmd_query\u001b[0;34m(self, query, raw, buffered, raw_as_string)\u001b[0m\n\u001b[1;32m   1044\u001b[0m query \u001b[38;5;241m=\u001b[39m \u001b[38;5;28mbytes\u001b[39m(packet)\n\u001b[1;32m   1045\u001b[0m \u001b[38;5;28;01mtry\u001b[39;00m:\n\u001b[0;32m-> 1046\u001b[0m     result \u001b[38;5;241m=\u001b[39m \u001b[38;5;28;43mself\u001b[39;49m\u001b[38;5;241;43m.\u001b[39;49m\u001b[43m_handle_result\u001b[49m\u001b[43m(\u001b[49m\u001b[38;5;28;43mself\u001b[39;49m\u001b[38;5;241;43m.\u001b[39;49m\u001b[43m_send_cmd\u001b[49m\u001b[43m(\u001b[49m\u001b[43mServerCmd\u001b[49m\u001b[38;5;241;43m.\u001b[39;49m\u001b[43mQUERY\u001b[49m\u001b[43m,\u001b[49m\u001b[43m \u001b[49m\u001b[43mquery\u001b[49m\u001b[43m)\u001b[49m\u001b[43m)\u001b[49m\n\u001b[1;32m   1047\u001b[0m \u001b[38;5;28;01mexcept\u001b[39;00m ProgrammingError \u001b[38;5;28;01mas\u001b[39;00m err:\n\u001b[1;32m   1048\u001b[0m     \u001b[38;5;28;01mif\u001b[39;00m err\u001b[38;5;241m.\u001b[39merrno \u001b[38;5;241m==\u001b[39m \u001b[38;5;241m3948\u001b[39m \u001b[38;5;129;01mand\u001b[39;00m \u001b[38;5;124m\"\u001b[39m\u001b[38;5;124mLoading local data is disabled\u001b[39m\u001b[38;5;124m\"\u001b[39m \u001b[38;5;129;01min\u001b[39;00m err\u001b[38;5;241m.\u001b[39mmsg:\n",
      "File \u001b[0;32m~/opt/anaconda3/lib/python3.9/site-packages/mysql/connector/connection.py:824\u001b[0m, in \u001b[0;36mMySQLConnection._handle_result\u001b[0;34m(self, packet)\u001b[0m\n\u001b[1;32m    822\u001b[0m     \u001b[38;5;28;01mreturn\u001b[39;00m \u001b[38;5;28mself\u001b[39m\u001b[38;5;241m.\u001b[39m_handle_eof(packet)\n\u001b[1;32m    823\u001b[0m \u001b[38;5;28;01mif\u001b[39;00m packet[\u001b[38;5;241m4\u001b[39m] \u001b[38;5;241m==\u001b[39m \u001b[38;5;241m255\u001b[39m:\n\u001b[0;32m--> 824\u001b[0m     \u001b[38;5;28;01mraise\u001b[39;00m get_exception(packet)\n\u001b[1;32m    826\u001b[0m \u001b[38;5;66;03m# We have a text result set\u001b[39;00m\n\u001b[1;32m    827\u001b[0m column_count \u001b[38;5;241m=\u001b[39m \u001b[38;5;28mself\u001b[39m\u001b[38;5;241m.\u001b[39m_protocol\u001b[38;5;241m.\u001b[39mparse_column_count(packet)\n",
      "\u001b[0;31mProgrammingError\u001b[0m: 1064 (42000): You have an error in your SQL syntax; check the manual that corresponds to your MySQL server version for the right syntax to use near 'database fsds_db' at line 1"
     ]
    }
   ],
   "source": [
    "cur.execute(\"use database fsds_db\")"
   ]
  },
  {
   "cell_type": "code",
   "execution_count": 11,
   "id": "cf137831",
   "metadata": {},
   "outputs": [],
   "source": [
    "cur.execute(\"use fsds_db\")"
   ]
  },
  {
   "cell_type": "code",
   "execution_count": 12,
   "id": "2786b2fa",
   "metadata": {},
   "outputs": [],
   "source": [
    "cur.execute('create table fsds1 (name varchar(40),roll_no int, mail_id varchar(50))')"
   ]
  },
  {
   "cell_type": "code",
   "execution_count": 20,
   "id": "daadfe7a",
   "metadata": {},
   "outputs": [],
   "source": [
    "cur.execute(\"insert into fsds1 values ('anil',344,'anil@gmail.com')\")"
   ]
  },
  {
   "cell_type": "code",
   "execution_count": 19,
   "id": "43a13c03",
   "metadata": {},
   "outputs": [],
   "source": [
    "mydb.commit()"
   ]
  },
  {
   "cell_type": "code",
   "execution_count": 21,
   "id": "b0a0e8dc",
   "metadata": {},
   "outputs": [],
   "source": [
    "cur.execute(\"insert into fsds1 values ('anbc',354,'anbc@gmail.com')\")"
   ]
  },
  {
   "cell_type": "code",
   "execution_count": 22,
   "id": "fbcf9eb1",
   "metadata": {},
   "outputs": [],
   "source": [
    "mydb.commit()"
   ]
  },
  {
   "cell_type": "code",
   "execution_count": 37,
   "id": "6ef27b92",
   "metadata": {},
   "outputs": [],
   "source": [
    "mycursor.execute('select * from fsds_db.fsds1')"
   ]
  },
  {
   "cell_type": "code",
   "execution_count": 38,
   "id": "22373499",
   "metadata": {},
   "outputs": [
    {
     "name": "stdout",
     "output_type": "stream",
     "text": [
      "('anil', 344, 'anil@gmail.com')\n",
      "('anil', 344, 'anil@gmail.com')\n",
      "('anil', 344, 'anil@gmail.com')\n",
      "('anil', 344, 'anil@gmail.com')\n",
      "('anbc', 354, 'anbc@gmail.com')\n",
      "('anbc', 354, 'anbc@gmail.com')\n"
     ]
    }
   ],
   "source": [
    "for i in mycursor:\n",
    "    print(i)"
   ]
  },
  {
   "cell_type": "code",
   "execution_count": 31,
   "id": "b2aea457",
   "metadata": {},
   "outputs": [
    {
     "ename": "ProgrammingError",
     "evalue": "1050 (42S01): Table 'fsds' already exists",
     "output_type": "error",
     "traceback": [
      "\u001b[0;31m---------------------------------------------------------------------------\u001b[0m",
      "\u001b[0;31mProgrammingError\u001b[0m                          Traceback (most recent call last)",
      "Input \u001b[0;32mIn [31]\u001b[0m, in \u001b[0;36m<cell line: 1>\u001b[0;34m()\u001b[0m\n\u001b[0;32m----> 1\u001b[0m \u001b[43mmycursor\u001b[49m\u001b[38;5;241;43m.\u001b[39;49m\u001b[43mexecute\u001b[49m\u001b[43m(\u001b[49m\u001b[38;5;124;43m'\u001b[39;49m\u001b[38;5;124;43mcreate table ineuron.fsds(studentid int , firstname varchar(50) , lastname varchar(50) , registrationdate DATE,class varchar(20) , course_name varchar(50))\u001b[39;49m\u001b[38;5;124;43m'\u001b[39;49m\u001b[43m)\u001b[49m\n",
      "File \u001b[0;32m~/opt/anaconda3/lib/python3.9/site-packages/mysql/connector/cursor.py:617\u001b[0m, in \u001b[0;36mMySQLCursor.execute\u001b[0;34m(self, operation, params, multi)\u001b[0m\n\u001b[1;32m    614\u001b[0m     \u001b[38;5;28;01mreturn\u001b[39;00m \u001b[38;5;28mself\u001b[39m\u001b[38;5;241m.\u001b[39m_execute_iter(\u001b[38;5;28mself\u001b[39m\u001b[38;5;241m.\u001b[39m_connection\u001b[38;5;241m.\u001b[39mcmd_query_iter(stmt))\n\u001b[1;32m    616\u001b[0m \u001b[38;5;28;01mtry\u001b[39;00m:\n\u001b[0;32m--> 617\u001b[0m     \u001b[38;5;28mself\u001b[39m\u001b[38;5;241m.\u001b[39m_handle_result(\u001b[38;5;28;43mself\u001b[39;49m\u001b[38;5;241;43m.\u001b[39;49m\u001b[43m_connection\u001b[49m\u001b[38;5;241;43m.\u001b[39;49m\u001b[43mcmd_query\u001b[49m\u001b[43m(\u001b[49m\u001b[43mstmt\u001b[49m\u001b[43m)\u001b[49m)\n\u001b[1;32m    618\u001b[0m \u001b[38;5;28;01mexcept\u001b[39;00m InterfaceError \u001b[38;5;28;01mas\u001b[39;00m err:\n\u001b[1;32m    619\u001b[0m     \u001b[38;5;28;01mif\u001b[39;00m \u001b[38;5;28mself\u001b[39m\u001b[38;5;241m.\u001b[39m_connection\u001b[38;5;241m.\u001b[39mhave_next_result:\n",
      "File \u001b[0;32m~/opt/anaconda3/lib/python3.9/site-packages/mysql/connector/connection.py:1046\u001b[0m, in \u001b[0;36mMySQLConnection.cmd_query\u001b[0;34m(self, query, raw, buffered, raw_as_string)\u001b[0m\n\u001b[1;32m   1044\u001b[0m query \u001b[38;5;241m=\u001b[39m \u001b[38;5;28mbytes\u001b[39m(packet)\n\u001b[1;32m   1045\u001b[0m \u001b[38;5;28;01mtry\u001b[39;00m:\n\u001b[0;32m-> 1046\u001b[0m     result \u001b[38;5;241m=\u001b[39m \u001b[38;5;28;43mself\u001b[39;49m\u001b[38;5;241;43m.\u001b[39;49m\u001b[43m_handle_result\u001b[49m\u001b[43m(\u001b[49m\u001b[38;5;28;43mself\u001b[39;49m\u001b[38;5;241;43m.\u001b[39;49m\u001b[43m_send_cmd\u001b[49m\u001b[43m(\u001b[49m\u001b[43mServerCmd\u001b[49m\u001b[38;5;241;43m.\u001b[39;49m\u001b[43mQUERY\u001b[49m\u001b[43m,\u001b[49m\u001b[43m \u001b[49m\u001b[43mquery\u001b[49m\u001b[43m)\u001b[49m\u001b[43m)\u001b[49m\n\u001b[1;32m   1047\u001b[0m \u001b[38;5;28;01mexcept\u001b[39;00m ProgrammingError \u001b[38;5;28;01mas\u001b[39;00m err:\n\u001b[1;32m   1048\u001b[0m     \u001b[38;5;28;01mif\u001b[39;00m err\u001b[38;5;241m.\u001b[39merrno \u001b[38;5;241m==\u001b[39m \u001b[38;5;241m3948\u001b[39m \u001b[38;5;129;01mand\u001b[39;00m \u001b[38;5;124m\"\u001b[39m\u001b[38;5;124mLoading local data is disabled\u001b[39m\u001b[38;5;124m\"\u001b[39m \u001b[38;5;129;01min\u001b[39;00m err\u001b[38;5;241m.\u001b[39mmsg:\n",
      "File \u001b[0;32m~/opt/anaconda3/lib/python3.9/site-packages/mysql/connector/connection.py:824\u001b[0m, in \u001b[0;36mMySQLConnection._handle_result\u001b[0;34m(self, packet)\u001b[0m\n\u001b[1;32m    822\u001b[0m     \u001b[38;5;28;01mreturn\u001b[39;00m \u001b[38;5;28mself\u001b[39m\u001b[38;5;241m.\u001b[39m_handle_eof(packet)\n\u001b[1;32m    823\u001b[0m \u001b[38;5;28;01mif\u001b[39;00m packet[\u001b[38;5;241m4\u001b[39m] \u001b[38;5;241m==\u001b[39m \u001b[38;5;241m255\u001b[39m:\n\u001b[0;32m--> 824\u001b[0m     \u001b[38;5;28;01mraise\u001b[39;00m get_exception(packet)\n\u001b[1;32m    826\u001b[0m \u001b[38;5;66;03m# We have a text result set\u001b[39;00m\n\u001b[1;32m    827\u001b[0m column_count \u001b[38;5;241m=\u001b[39m \u001b[38;5;28mself\u001b[39m\u001b[38;5;241m.\u001b[39m_protocol\u001b[38;5;241m.\u001b[39mparse_column_count(packet)\n",
      "\u001b[0;31mProgrammingError\u001b[0m: 1050 (42S01): Table 'fsds' already exists"
     ]
    }
   ],
   "source": [
    "# mycursor.execute('create table ineuron.fsds(studentid int , firstname varchar(50) , lastname varchar(50) , registrationdate DATE,class varchar(20) , course_name varchar(50))')\n"
   ]
  },
  {
   "cell_type": "code",
   "execution_count": 33,
   "id": "b9552561",
   "metadata": {},
   "outputs": [],
   "source": [
    "mycursor.execute(\"\"\"insert into ineuron.fsds values (123 , 'sudhanshu', 'kumar','2022-11-11','sql','fsds'),\n",
    "(124 , 'r', 'singh','2022-11-11','sql','fsds'),\n",
    "(125 , 'rohan', 'kumar','2022-11-11','sql','fsds'),\n",
    "(126 , 'shreeja', 'maynale','2022-11-11','sql','fsds'),\n",
    "(127 , 'shubham', 'vedi','2022-11-11','sql','fsds'),\n",
    "(128 , 'abhishek', 'saini','2022-11-11','sql','fsds'),\n",
    "(129 , 'manoj', 'tripathi','2022-11-11','sql','fsds'),\n",
    "(130 , 'mayur ', 'gupta','2022-11-11','sql','fsds'),\n",
    "(131 , 'sumay', 'cahtterjee','2022-11-11','sql','fsds'),\n",
    "(132 , 'raunak', 'shgaow','2022-11-11','sql','fsds'),\n",
    "(133 , 'danish', 'khan','2022-11-11','sql','fsds')\"\"\")"
   ]
  },
  {
   "cell_type": "code",
   "execution_count": 34,
   "id": "b008c867",
   "metadata": {},
   "outputs": [],
   "source": [
    "mydb.commit()"
   ]
  },
  {
   "cell_type": "code",
   "execution_count": 35,
   "id": "4d08cc17",
   "metadata": {},
   "outputs": [],
   "source": [
    "mycursor.execute('select * from ineuron.fsds')"
   ]
  },
  {
   "cell_type": "code",
   "execution_count": 36,
   "id": "144bfc42",
   "metadata": {},
   "outputs": [
    {
     "name": "stdout",
     "output_type": "stream",
     "text": [
      "(123, 'sudhanshu', 'kumar', datetime.date(2022, 11, 11), 'sql', 'fsds')\n",
      "(124, 'r', 'singh', datetime.date(2022, 11, 11), 'sql', 'fsds')\n",
      "(125, 'rohan', 'kumar', datetime.date(2022, 11, 11), 'sql', 'fsds')\n",
      "(126, 'shreeja', 'maynale', datetime.date(2022, 11, 11), 'sql', 'fsds')\n",
      "(127, 'shubham', 'vedi', datetime.date(2022, 11, 11), 'sql', 'fsds')\n",
      "(128, 'abhishek', 'saini', datetime.date(2022, 11, 11), 'sql', 'fsds')\n",
      "(129, 'manoj', 'tripathi', datetime.date(2022, 11, 11), 'sql', 'fsds')\n",
      "(130, 'mayur ', 'gupta', datetime.date(2022, 11, 11), 'sql', 'fsds')\n",
      "(131, 'sumay', 'cahtterjee', datetime.date(2022, 11, 11), 'sql', 'fsds')\n",
      "(132, 'raunak', 'shgaow', datetime.date(2022, 11, 11), 'sql', 'fsds')\n",
      "(133, 'danish', 'khan', datetime.date(2022, 11, 11), 'sql', 'fsds')\n",
      "(123, 'sudhanshu', 'kumar', datetime.date(2022, 11, 11), 'sql', 'fsds')\n",
      "(124, 'r', 'singh', datetime.date(2022, 11, 11), 'sql', 'fsds')\n",
      "(125, 'rohan', 'kumar', datetime.date(2022, 11, 11), 'sql', 'fsds')\n",
      "(126, 'shreeja', 'maynale', datetime.date(2022, 11, 11), 'sql', 'fsds')\n",
      "(127, 'shubham', 'vedi', datetime.date(2022, 11, 11), 'sql', 'fsds')\n",
      "(128, 'abhishek', 'saini', datetime.date(2022, 11, 11), 'sql', 'fsds')\n",
      "(129, 'manoj', 'tripathi', datetime.date(2022, 11, 11), 'sql', 'fsds')\n",
      "(130, 'mayur ', 'gupta', datetime.date(2022, 11, 11), 'sql', 'fsds')\n",
      "(131, 'sumay', 'cahtterjee', datetime.date(2022, 11, 11), 'sql', 'fsds')\n",
      "(132, 'raunak', 'shgaow', datetime.date(2022, 11, 11), 'sql', 'fsds')\n",
      "(133, 'danish', 'khan', datetime.date(2022, 11, 11), 'sql', 'fsds')\n",
      "(123, 'sudhanshu', 'kumar', datetime.date(2022, 11, 11), 'sql', 'fsds')\n",
      "(124, 'r', 'singh', datetime.date(2022, 11, 11), 'sql', 'fsds')\n",
      "(125, 'rohan', 'kumar', datetime.date(2022, 11, 11), 'sql', 'fsds')\n",
      "(126, 'shreeja', 'maynale', datetime.date(2022, 11, 11), 'sql', 'fsds')\n",
      "(127, 'shubham', 'vedi', datetime.date(2022, 11, 11), 'sql', 'fsds')\n",
      "(128, 'abhishek', 'saini', datetime.date(2022, 11, 11), 'sql', 'fsds')\n",
      "(129, 'manoj', 'tripathi', datetime.date(2022, 11, 11), 'sql', 'fsds')\n",
      "(130, 'mayur ', 'gupta', datetime.date(2022, 11, 11), 'sql', 'fsds')\n",
      "(131, 'sumay', 'cahtterjee', datetime.date(2022, 11, 11), 'sql', 'fsds')\n",
      "(132, 'raunak', 'shgaow', datetime.date(2022, 11, 11), 'sql', 'fsds')\n",
      "(133, 'danish', 'khan', datetime.date(2022, 11, 11), 'sql', 'fsds')\n",
      "(123, 'sudhanshu', 'kumar', datetime.date(2022, 11, 11), 'sql', 'fsds')\n",
      "(124, 'r', 'singh', datetime.date(2022, 11, 11), 'sql', 'fsds')\n",
      "(125, 'rohan', 'kumar', datetime.date(2022, 11, 11), 'sql', 'fsds')\n",
      "(126, 'shreeja', 'maynale', datetime.date(2022, 11, 11), 'sql', 'fsds')\n",
      "(127, 'shubham', 'vedi', datetime.date(2022, 11, 11), 'sql', 'fsds')\n",
      "(128, 'abhishek', 'saini', datetime.date(2022, 11, 11), 'sql', 'fsds')\n",
      "(129, 'manoj', 'tripathi', datetime.date(2022, 11, 11), 'sql', 'fsds')\n",
      "(130, 'mayur ', 'gupta', datetime.date(2022, 11, 11), 'sql', 'fsds')\n",
      "(131, 'sumay', 'cahtterjee', datetime.date(2022, 11, 11), 'sql', 'fsds')\n",
      "(132, 'raunak', 'shgaow', datetime.date(2022, 11, 11), 'sql', 'fsds')\n",
      "(133, 'danish', 'khan', datetime.date(2022, 11, 11), 'sql', 'fsds')\n"
     ]
    }
   ],
   "source": [
    "for i in mycursor:\n",
    "    print(i)"
   ]
  },
  {
   "cell_type": "code",
   "execution_count": null,
   "id": "64521093",
   "metadata": {},
   "outputs": [],
   "source": []
  }
 ],
 "metadata": {
  "kernelspec": {
   "display_name": "Python 3 (ipykernel)",
   "language": "python",
   "name": "python3"
  },
  "language_info": {
   "codemirror_mode": {
    "name": "ipython",
    "version": 3
   },
   "file_extension": ".py",
   "mimetype": "text/x-python",
   "name": "python",
   "nbconvert_exporter": "python",
   "pygments_lexer": "ipython3",
   "version": "3.9.12"
  }
 },
 "nbformat": 4,
 "nbformat_minor": 5
}
